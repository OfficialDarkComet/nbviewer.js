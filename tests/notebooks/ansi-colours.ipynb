{
 "cells": [
  {
   "cell_type": "code",
   "execution_count": 1,
   "id": "corrected-telescope",
   "metadata": {},
   "outputs": [
    {
     "name": "stderr",
     "output_type": "stream",
     "text": [
      "\u001b[1m\u001b[31mAttention!\u001b[0m\n"
     ]
    }
   ],
   "source": [
    "import sys\n",
    "from termcolor import colored, cprint\n",
    "cprint(\"Attention!\", \"red\", attrs=[\"bold\"], file=sys.stderr)"
   ]
  },
  {
   "cell_type": "code",
   "execution_count": 2,
   "id": "radical-afternoon",
   "metadata": {},
   "outputs": [
    {
     "name": "stdout",
     "output_type": "stream",
     "text": [
      "\u001b[5m\u001b[7m\u001b[31mHello, World!\u001b[0m\n",
      "\u001b[41m\u001b[32mHello, World!\u001b[0m\n"
     ]
    }
   ],
   "source": [
    "text = colored(\"Hello, World!\", \"red\", attrs=[\"reverse\", \"blink\"])\n",
    "print(text)\n",
    "cprint(\"Hello, World!\", \"green\", \"on_red\")"
   ]
  },
  {
   "cell_type": "code",
   "execution_count": null,
   "id": "logical-ukraine",
   "metadata": {},
   "outputs": [],
   "source": []
  }
 ],
 "metadata": {
  "kernelspec": {
   "display_name": "Python 3",
   "language": "python",
   "name": "python3"
  },
  "language_info": {
   "codemirror_mode": {
    "name": "ipython",
    "version": 3
   },
   "file_extension": ".py",
   "mimetype": "text/x-python",
   "name": "python",
   "nbconvert_exporter": "python",
   "pygments_lexer": "ipython3",
   "version": "3.9.0"
  }
 },
 "nbformat": 4,
 "nbformat_minor": 5
}
